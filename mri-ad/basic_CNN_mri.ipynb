{
 "cells": [
  {
   "cell_type": "code",
   "execution_count": 1,
   "metadata": {},
   "outputs": [],
   "source": [
    "import os\n",
    "import librosa\n",
    "import librosa.display\n",
    "import numpy as np\n",
    "import pandas as pd\n",
    "# plotting\n",
    "import matplotlib.pyplot as plt\n",
    "import seaborn as sns\n",
    "from PIL import Image\n",
    "import cv2"
   ]
  },
  {
   "cell_type": "code",
   "execution_count": 2,
   "metadata": {},
   "outputs": [
    {
     "name": "stderr",
     "output_type": "stream",
     "text": [
      "/Users/jansta/miniconda3/envs/pytorch2/lib/python3.10/site-packages/tqdm/auto.py:21: TqdmWarning: IProgress not found. Please update jupyter and ipywidgets. See https://ipywidgets.readthedocs.io/en/stable/user_install.html\n",
      "  from .autonotebook import tqdm as notebook_tqdm\n",
      "/Users/jansta/miniconda3/envs/pytorch2/lib/python3.10/site-packages/threadpoolctl.py:1214: RuntimeWarning: \n",
      "Found Intel OpenMP ('libiomp') and LLVM OpenMP ('libomp') loaded at\n",
      "the same time. Both libraries are known to be incompatible and this\n",
      "can cause random crashes or deadlocks on Linux when loaded in the\n",
      "same Python program.\n",
      "Using threadpoolctl may cause crashes or deadlocks. For more\n",
      "information and possible workarounds, please see\n",
      "    https://github.com/joblib/threadpoolctl/blob/master/multiple_openmp.md\n",
      "\n",
      "  warnings.warn(msg, RuntimeWarning)\n"
     ]
    },
    {
     "data": {
      "text/plain": [
       "'/Users/jansta/learn/mri-AD'"
      ]
     },
     "execution_count": 2,
     "metadata": {},
     "output_type": "execute_result"
    }
   ],
   "source": [
    "import torch\n",
    "import torchaudio\n",
    "import torchvision.transforms as transforms\n",
    "import torch.nn as nn\n",
    "import torch.nn.functional as F\n",
    "from torch.utils.data import Dataset, DataLoader\n",
    "\n",
    "from sklearn.metrics import accuracy_score, confusion_matrix\n",
    "from sklearn.model_selection import train_test_split\n",
    "import random\n",
    "#from plot_audio import plot_specgram, plot_waveform\n",
    "os.getcwd()"
   ]
  },
  {
   "cell_type": "code",
   "execution_count": 3,
   "metadata": {},
   "outputs": [
    {
     "name": "stdout",
     "output_type": "stream",
     "text": [
      "(5120, 2)\n",
      "Index(['image', 'label'], dtype='object')\n",
      "(1280, 2)\n"
     ]
    },
    {
     "data": {
      "text/html": [
       "<div>\n",
       "<style scoped>\n",
       "    .dataframe tbody tr th:only-of-type {\n",
       "        vertical-align: middle;\n",
       "    }\n",
       "\n",
       "    .dataframe tbody tr th {\n",
       "        vertical-align: top;\n",
       "    }\n",
       "\n",
       "    .dataframe thead th {\n",
       "        text-align: right;\n",
       "    }\n",
       "</style>\n",
       "<table border=\"1\" class=\"dataframe\">\n",
       "  <thead>\n",
       "    <tr style=\"text-align: right;\">\n",
       "      <th></th>\n",
       "      <th>image</th>\n",
       "      <th>label</th>\n",
       "    </tr>\n",
       "  </thead>\n",
       "  <tbody>\n",
       "    <tr>\n",
       "      <th>0</th>\n",
       "      <td>{'bytes': b'\\xff\\xd8\\xff\\xe0\\x00\\x10JFIF\\x00\\x...</td>\n",
       "      <td>2</td>\n",
       "    </tr>\n",
       "    <tr>\n",
       "      <th>1</th>\n",
       "      <td>{'bytes': b'\\xff\\xd8\\xff\\xe0\\x00\\x10JFIF\\x00\\x...</td>\n",
       "      <td>0</td>\n",
       "    </tr>\n",
       "    <tr>\n",
       "      <th>2</th>\n",
       "      <td>{'bytes': b'\\xff\\xd8\\xff\\xe0\\x00\\x10JFIF\\x00\\x...</td>\n",
       "      <td>3</td>\n",
       "    </tr>\n",
       "    <tr>\n",
       "      <th>3</th>\n",
       "      <td>{'bytes': b'\\xff\\xd8\\xff\\xe0\\x00\\x10JFIF\\x00\\x...</td>\n",
       "      <td>3</td>\n",
       "    </tr>\n",
       "    <tr>\n",
       "      <th>4</th>\n",
       "      <td>{'bytes': b'\\xff\\xd8\\xff\\xe0\\x00\\x10JFIF\\x00\\x...</td>\n",
       "      <td>2</td>\n",
       "    </tr>\n",
       "  </tbody>\n",
       "</table>\n",
       "</div>"
      ],
      "text/plain": [
       "                                               image  label\n",
       "0  {'bytes': b'\\xff\\xd8\\xff\\xe0\\x00\\x10JFIF\\x00\\x...      2\n",
       "1  {'bytes': b'\\xff\\xd8\\xff\\xe0\\x00\\x10JFIF\\x00\\x...      0\n",
       "2  {'bytes': b'\\xff\\xd8\\xff\\xe0\\x00\\x10JFIF\\x00\\x...      3\n",
       "3  {'bytes': b'\\xff\\xd8\\xff\\xe0\\x00\\x10JFIF\\x00\\x...      3\n",
       "4  {'bytes': b'\\xff\\xd8\\xff\\xe0\\x00\\x10JFIF\\x00\\x...      2"
      ]
     },
     "execution_count": 3,
     "metadata": {},
     "output_type": "execute_result"
    },
    {
     "data": {
      "image/png": "[encoded data removed]",
      "text/plain": [
       "<Figure size 640x480 with 1 Axes>"
      ]
     },
     "metadata": {},
     "output_type": "display_data"
    }
   ],
   "source": [
    "DATA_DIR = '/Users/jansta/learn/mri-AD/Data/'\n",
    "\n",
    "# Load the parquet files\n",
    "train_data = pd.read_parquet(os.path.join(DATA_DIR, 'train-00000-of-00001-c08a401c53fe5312.parquet'))\n",
    "print(train_data.shape)\n",
    "print(train_data.columns)\n",
    "\n",
    "test_data = pd.read_parquet(os.path.join(DATA_DIR, 'test-00000-of-00001-44110b9df98c5585.parquet'))\n",
    "print(test_data.shape)\n",
    "\n",
    "train_data['label'].value_counts().plot(kind='bar')\n",
    "\n",
    "train_data.head()\n"
   ]
  },
  {
   "cell_type": "code",
   "execution_count": 4,
   "metadata": {},
   "outputs": [],
   "source": [
    "def convert_to_format(bytes_df):\n",
    "    img_arr=np.frombuffer(bytes_df,dtype=np.uint8) # frombuffer is used to convert the bytes to np.array\n",
    "    img=cv2.imdecode(img_arr,cv2.IMREAD_COLOR)    # here cv2 imdecode is used for readblity formate and IMREAD_COLOR is used for rgb color format image \n",
    "    return img\n",
    "\n",
    "def get_img(df):\n",
    "    images=[]\n",
    "    for i in range(len(df)):\n",
    "        inputt=df.iloc[i]['image']['bytes']\n",
    "        cv_data=convert_to_format(inputt)\n",
    "        images.append(cv_data)\n",
    "    return images"
   ]
  },
  {
   "cell_type": "code",
   "execution_count": 5,
   "metadata": {},
   "outputs": [],
   "source": [
    "train_data['image'] = get_img(train_data)\n",
    "train_data['image'].iloc[0].shape\n",
    "test_data['image'] = get_img(test_data)"
   ]
  },
  {
   "cell_type": "code",
   "execution_count": 6,
   "metadata": {},
   "outputs": [
    {
     "data": {
      "text/plain": [
       "Text(0.5, 1.0, '2')"
      ]
     },
     "execution_count": 6,
     "metadata": {},
     "output_type": "execute_result"
    },
    {
     "data": {
      "image/png": "[encoded data removed]",
      "text/plain": [
       "<Figure size 640x480 with 1 Axes>"
      ]
     },
     "metadata": {},
     "output_type": "display_data"
    }
   ],
   "source": [
    "plt.imshow(train_data['image'][0])\n",
    "plt.title(train_data['label'][0])"
   ]
  },
  {
   "cell_type": "code",
   "execution_count": 7,
   "metadata": {},
   "outputs": [],
   "source": [
    "label_mapping = {\n",
    "    0: 0,  # Mild_Demented -> Demented\n",
    "    1: 0,  # Moderate_Demented -> Demented\n",
    "    2: 2,  # Non_Demented -> Healthy\n",
    "    3: 1   # Very_Mild_Demented -> Mild Demented\n",
    "}"
   ]
  },
  {
   "cell_type": "code",
   "execution_count": 8,
   "metadata": {},
   "outputs": [],
   "source": [
    "class AD_Dataset(Dataset):\n",
    "    def __init__(self, data_frame, transform=None):\n",
    "        self.transform = transform\n",
    "        self.df = data_frame\n",
    "         # Check unique values in the 'label' column before mapping\n",
    "        print(f\"Unique labels before mapping:{ self.df['label'].unique()}\")\n",
    "\n",
    "        # Apply binary label mapping to the 'label' column\n",
    "        self.df['label'] = self.df['label'].map(label_mapping)\n",
    "\n",
    "        # Verify label mapping (should  contain: 0, 1, 2)\n",
    "        unique_labels = self.df['label'].unique()\n",
    "        if not all(label in [0, 1, 2] for label in unique_labels):\n",
    "            raise ValueError(f'Label inconsistency after mapping: {unique_labels}')\n",
    "        print(f\"Unique labels after mapping:{ self.df['label'].unique()}\")\n",
    "    \n",
    "    def __len__(self):\n",
    "        return len(self.df)\n",
    "    \n",
    "    def __getitem__(self, idx):\n",
    "        # Load the image array and binary label from the DataFrame\n",
    "        image = self.df.iloc[idx]['image'].transpose()\n",
    "        label = self.df.iloc[idx]['label']\n",
    "\n",
    "        #print(f'image shape {image.shape}')\n",
    "\n",
    "        # Convert image to tensor, add channel dimension, and apply transformations if any\n",
    "        image = torch.tensor(image, dtype=torch.float32)  # Shape (1, height, width)\n",
    "        label = torch.tensor(label, dtype=torch.long)  # Ensure label is long type for classification\n",
    "\n",
    "        #print(f'image tensor size: {image.size()}')\n",
    "        \n",
    "        if self.transform:\n",
    "            image = self.transform(image)\n",
    "        \n",
    "        return image, label"
   ]
  },
  {
   "cell_type": "code",
   "execution_count": 9,
   "metadata": {},
   "outputs": [],
   "source": [
    "transform = transforms.Compose([\n",
    "    #transforms.Resize((64,64)),\n",
    "    transforms.Grayscale(num_output_channels=1),\n",
    "    #transforms.ToTensor(),\n",
    "    transforms.Normalize((0.5, ), (0.5, ))\n",
    "    ])"
   ]
  },
  {
   "cell_type": "code",
   "execution_count": 10,
   "metadata": {},
   "outputs": [
    {
     "name": "stdout",
     "output_type": "stream",
     "text": [
      "Unique labels before mapping:[2 0 3 1]\n",
      "Unique labels after mapping:[2 0 1]\n",
      "Unique labels before mapping:[3 0 2 1]\n",
      "Unique labels after mapping:[1 0 2]\n"
     ]
    }
   ],
   "source": [
    "train_dataset = AD_Dataset(train_data, transform=transform)\n",
    "test_dataset = AD_Dataset(test_data, transform=transform)"
   ]
  },
  {
   "cell_type": "code",
   "execution_count": 11,
   "metadata": {},
   "outputs": [],
   "source": [
    "# Create dataloaders\n",
    "batch_size = 8\n",
    "train_loader = DataLoader(train_dataset, batch_size=batch_size, shuffle=True)\n",
    "test_loader = DataLoader(test_dataset, batch_size=batch_size, shuffle=False)\n"
   ]
  },
  {
   "cell_type": "code",
   "execution_count": 12,
   "metadata": {},
   "outputs": [
    {
     "data": {
      "text/plain": [
       "torch.Size([1, 128, 128])"
      ]
     },
     "execution_count": 12,
     "metadata": {},
     "output_type": "execute_result"
    }
   ],
   "source": [
    "train_dataset[0][0].shape"
   ]
  },
  {
   "cell_type": "code",
   "execution_count": 13,
   "metadata": {},
   "outputs": [
    {
     "name": "stdout",
     "output_type": "stream",
     "text": [
      "Batch 1:\n",
      "Inputs shape: torch.Size([8, 1, 128, 128])\n",
      "Labels shape: torch.Size([8])\n",
      "Labels: tensor([2, 0, 1, 2, 2, 2, 0, 2])\n"
     ]
    }
   ],
   "source": [
    "for i, (inputs, labels) in enumerate(train_loader):\n",
    "    print(f'Batch {i+1}:')\n",
    "    print(f'Inputs shape: {inputs.shape}')\n",
    "    print(f'Labels shape: {labels.shape}')\n",
    "    print(f'Labels: {labels}')\n",
    "    break"
   ]
  },
  {
   "cell_type": "code",
   "execution_count": 17,
   "metadata": {},
   "outputs": [],
   "source": [
    "class ClassifNetXAI(nn.Module):\n",
    "    def __init__(self) -> None:\n",
    "        super().__init__()\n",
    "        self.feature_maps = None\n",
    "        \n",
    "        # First Convolutional Block\n",
    "        self.conv_block1 = nn.Sequential(\n",
    "            # First convolution: increase number of channels to 16\n",
    "            nn.Conv2d(1, 16, kernel_size=3, padding=1), #input: (B, 1, H, W) output: (B, 16, H, W)\n",
    "            nn.BatchNorm2d(16), # BatchNorm to stabilize learning\n",
    "            nn.ReLU(),\n",
    "            nn.MaxPool2d(2, 2),  # reduces height and width by 2\n",
    "            \n",
    "            # Second convolution: further increase channels to 32, also add BatchNorm\n",
    "            nn.Conv2d(16, 32, kernel_size=3, padding=1), #output: (B, 32, H, W)\n",
    "            nn.BatchNorm2d(32),\n",
    "            nn.ReLU(),\n",
    "            nn.MaxPool2d(2, 2), # reduces height and width by 2\n",
    "\n",
    "            # Third convolutional block\n",
    "            nn.Conv2d(32, 64, kernel_size=3, padding=1),  # Output: (B, 64, 16, 16)\n",
    "            nn.BatchNorm2d(64),\n",
    "            nn.ReLU(),\n",
    "            nn.MaxPool2d(2, 2),  # Reduces height and width by 2 -> (B, 64, 8, 8)\n",
    "        )\n",
    "        self.global_pool = nn.AdaptiveAvgPool2d((1, 1))  # Output: (B, 64, 1, 1)\n",
    "\n",
    "        # Fully connected block\n",
    "        self.fc_block = nn.Sequential(\n",
    "            nn.Flatten(),              # Flattens (B, 64, 1, 1) into (B, 64)\n",
    "            nn.Linear(64, 64),         # Adjusted input features to match the flattened size\n",
    "            nn.BatchNorm1d(64),\n",
    "            nn.ReLU(),\n",
    "            nn.Dropout(0.3),\n",
    "            nn.Linear(64, 16),\n",
    "            nn.BatchNorm1d(16),\n",
    "            nn.ReLU(),\n",
    "            nn.Dropout(0.3),\n",
    "            nn.Linear(16, 3)           # 3 == n_classes\n",
    "        )\n",
    "    \n",
    "        \n",
    "    def forward(self, x: torch.Tensor, store_feature_maps: bool = False) -> torch.Tensor:\n",
    "        x = self.conv_block1(x)\n",
    "        #x = self.conv_block2(x)\n",
    "        \n",
    "        if store_feature_maps:\n",
    "            # Detaching feature maps for visualization (e.g., Grad-CAM)\n",
    "            self.feature_maps = x.detach()\n",
    "        # Global average pooling: converts (B, 128, H, W) to (B, 128, 1, 1)\n",
    "        x = self.global_pool(x)\n",
    "        x = self.fc_block(x)\n",
    "        # Note: Do not apply an activation like softmax here if you're using CrossEntropyLoss\n",
    "        return x\n"
   ]
  },
  {
   "cell_type": "code",
   "execution_count": null,
   "metadata": {},
   "outputs": [],
   "source": []
  },
  {
   "cell_type": "code",
   "execution_count": null,
   "metadata": {},
   "outputs": [
    {
     "name": "stdout",
     "output_type": "stream",
     "text": [
      "Epoch 0/100, Loss: 0.9226937296800315\n",
      "Epoch 10/100, Loss: 0.5494112067855894\n",
      "Epoch 20/100, Loss: 0.2814355449401774\n",
      "Epoch 30/100, Loss: 0.2066862667372334\n",
      "Epoch 40/100, Loss: 0.1440310299440171\n",
      "Epoch 50/100, Loss: 0.1277716472654447\n",
      "Epoch 60/100, Loss: 0.1088711752375275\n",
      "Epoch 70/100, Loss: 0.1012085901123101\n",
      "Epoch 80/100, Loss: 0.1330261353707556\n",
      "Epoch 90/100, Loss: 0.1108700521435821\n"
     ]
    }
   ],
   "source": [
    "## Create an  instance of the model:\n",
    "#n_classes = len(chosen_labels)\n",
    "\n",
    "NUM_EPOCHS = 300\n",
    "model = ClassifNetXAI()\n",
    "rate_l = 0.001\n",
    "loss_fn = nn.CrossEntropyLoss()\n",
    "optimizer = torch.optim.Adam(model.parameters(), lr=rate_l)\n",
    "losses_epoch_mean = []\n",
    "for epoch in range(NUM_EPOCHS):\n",
    "    losses_epoch = []\n",
    "    for i, data in enumerate(train_loader):\n",
    "        inputs, labels = data\n",
    "        # Check for NaN loss\n",
    "        if torch.isnan(inputs).any():\n",
    "            print(f\"NaN input at epoch {epoch}, batch {i}\")\n",
    "            i_err = inputs\n",
    "            break\n",
    "        \n",
    "        optimizer.zero_grad()\n",
    "        outputs = model(inputs)\n",
    "        loss = loss_fn(outputs, labels)\n",
    "        \n",
    "        # Check for NaN loss\n",
    "        if torch.isnan(loss):\n",
    "            print(f\"NaN loss at epoch {epoch}, batch {i}\")\n",
    "            l_err = loss\n",
    "            break\n",
    "        \n",
    "        loss.backward()\n",
    "        optimizer.step()\n",
    "        losses_epoch.append(loss.item())\n",
    "    \n",
    "    losses_epoch_mean.append(np.mean(losses_epoch))\n",
    "    if epoch % (int(NUM_EPOCHS/10)) == 0:\n",
    "        print(f'Epoch {epoch}/{NUM_EPOCHS}, Loss: {np.mean(losses_epoch):.16f}')"
   ]
  },
  {
   "cell_type": "markdown",
   "metadata": {},
   "source": []
  },
  {
   "cell_type": "code",
   "execution_count": null,
   "metadata": {},
   "outputs": [],
   "source": [
    "# y_val = []\n",
    "# y_val_hat = []\n",
    "# for i, data in enumerate(val_loader):\n",
    "#     inputs, y_val_temp = data\n",
    "#     with torch.no_grad():\n",
    "#         y_val_hat_temp = model(inputs).round()\n",
    "    \n",
    "#     y_val.extend(y_val_temp.numpy())\n",
    "#     y_val_hat.extend(y_val_hat_temp.numpy())"
   ]
  },
  {
   "cell_type": "code",
   "execution_count": null,
   "metadata": {},
   "outputs": [],
   "source": [
    "\n",
    "# # Accuracy\n",
    "# acc = accuracy_score(y_val, np.argmax(y_val_hat, axis=1))\n",
    "# print(f'Accuracy: {acc*100:.2f} %')\n",
    "# # confusion matrix\n",
    "# cm = confusion_matrix(y_val, np.argmax(y_val_hat, axis=1))\n",
    "sns.heatmap(cm, annot=True, xticklabels=chosen_labels, yticklabels=chosen_labels)\n"
   ]
  },
  {
   "cell_type": "code",
   "execution_count": null,
   "metadata": {},
   "outputs": [],
   "source": [
    "#torch.save(model.state_dict(), f'mri_classification_model10_LR{rate_l}_a{acc*100:.0f}%.pth')"
   ]
  },
  {
   "cell_type": "code",
   "execution_count": null,
   "metadata": {},
   "outputs": [],
   "source": []
  }
 ],
 "metadata": {
  "kernelspec": {
   "display_name": "pytorch2",
   "language": "python",
   "name": "python3"
  },
  "language_info": {
   "codemirror_mode": {
    "name": "ipython",
    "version": 3
   },
   "file_extension": ".py",
   "mimetype": "text/x-python",
   "name": "python",
   "nbconvert_exporter": "python",
   "pygments_lexer": "ipython3",
   "version": "3.10.14"
  }
 },
 "nbformat": 4,
 "nbformat_minor": 2
}
