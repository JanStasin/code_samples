{
 "cells": [
  {
   "cell_type": "code",
   "execution_count": 1,
   "id": "e73a868d",
   "metadata": {},
   "outputs": [
    {
     "name": "stdout",
     "output_type": "stream",
     "text": [
      "Can you see this?\n"
     ]
    }
   ],
   "source": [
    "### to be continued..\n",
    "\n",
    "print('Can you see this?')"
   ]
  },
  {
   "cell_type": "code",
   "execution_count": null,
   "id": "75e8caa4",
   "metadata": {},
   "outputs": [],
   "source": []
  }
 ],
 "metadata": {
  "kernelspec": {
   "display_name": "ds-boot",
   "language": "python",
   "name": "python3"
  },
  "language_info": {
   "codemirror_mode": {
    "name": "ipython",
    "version": 3
   },
   "file_extension": ".py",
   "mimetype": "text/x-python",
   "name": "python",
   "nbconvert_exporter": "python",
   "pygments_lexer": "ipython3",
   "version": "3.12.11"
  }
 },
 "nbformat": 4,
 "nbformat_minor": 5
}
